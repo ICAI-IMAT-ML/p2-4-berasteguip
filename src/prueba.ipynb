{
 "cells": [
  {
   "cell_type": "code",
   "execution_count": null,
   "metadata": {},
   "outputs": [
    {
     "data": {
      "text/plain": [
       "array([ 6, 24, 30])"
      ]
     },
     "execution_count": 6,
     "metadata": {},
     "output_type": "execute_result"
    }
   ],
   "source": [
    "import numpy as np\n",
    "error = np.array([1, 2, 3])\n",
    "X = np.array([[1, 1, 1],\n",
    "              [5, 2, 5],\n",
    "              [6, 3, 6]])\n",
    "\n",
    "X.T @ error"
   ]
  },
  {
   "cell_type": "code",
   "execution_count": null,
   "metadata": {},
   "outputs": [],
   "source": [
    "import numpy as np\n",
    "\n",
    "# Definimos una matriz y un vector\n",
    "A = np.array([[1, 2], [3, 4]])\n",
    "b = np.array([5, 6])\n",
    "\n",
    "# Multiplicación de matriz por vector\n",
    "result = A @ b\n",
    "\n",
    "print(result)  # Salida: [17 39]"
   ]
  },
  {
   "cell_type": "code",
   "execution_count": null,
   "metadata": {},
   "outputs": [],
   "source": [
    "import pandas as pd\n",
    "\n",
    "# Crear un DataFrame de ejemplo\n",
    "df = pd.DataFrame({\n",
    "    'A': [1, 2, 3],\n",
    "    'B': [4, 5, 6]\n",
    "})\n",
    "\n",
    "# Convertir el DataFrame a un array de NumPy\n",
    "array = df.values\n",
    "\n",
    "print(array)\n",
    "# Salida:\n",
    "# [[1 4]\n",
    "#  [2 5]\n",
    "#  [3 6]]"
   ]
  }
 ],
 "metadata": {
  "kernelspec": {
   "display_name": "base",
   "language": "python",
   "name": "python3"
  },
  "language_info": {
   "codemirror_mode": {
    "name": "ipython",
    "version": 3
   },
   "file_extension": ".py",
   "mimetype": "text/x-python",
   "name": "python",
   "nbconvert_exporter": "python",
   "pygments_lexer": "ipython3",
   "version": "3.11.10"
  }
 },
 "nbformat": 4,
 "nbformat_minor": 2
}
